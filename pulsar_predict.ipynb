{
 "cells": [
  {
   "cell_type": "code",
   "execution_count": 1,
   "metadata": {},
   "outputs": [],
   "source": [
    "import numpy as np\n",
    "import pandas as pd\n",
    "import matplotlib.pyplot as plt\n",
    "import seaborn as sns\n",
    "from sklearn.model_selection import train_test_split\n",
    "from sklearn.model_selection import StratifiedShuffleSplit\n",
    "from sklearn.metrics import accuracy_score, precision_score, recall_score, f1_score\n",
    "from sklearn.metrics import confusion_matrix\n",
    "from sklearn.ensemble import RandomForestClassifier\n",
    "\n",
    "\n",
    "sdata = pd.read_csv('data/stars/pulsar_stars.csv')"
   ]
  },
  {
   "cell_type": "code",
   "execution_count": null,
   "metadata": {
    "scrolled": true
   },
   "outputs": [],
   "source": [
    "sdata.head()"
   ]
  },
  {
   "cell_type": "code",
   "execution_count": null,
   "metadata": {},
   "outputs": [],
   "source": [
    "Обучение через рандом форест (прочитать про)\n",
    "не удалять негативные результаты\n",
    "для нормализованных данных провести сравнение до нормализации и после\n",
    "попробовтаь использовать кросс валидацию для улучшения результата\n",
    "попробовтаь undersampling \n",
    "написать саммари\n",
    "шум? метод понижения размерностей\n",
    "удалить из трейна шум\n",
    "\n",
    "*убрать низко корреляционные фичи и добавить новые с большим коэффицентом кореляции, допустим заменить 0,3 на 0,5"
   ]
  },
  {
   "cell_type": "code",
   "execution_count": null,
   "metadata": {},
   "outputs": [],
   "source": [
    "Для презентации:\n",
    "дата сет\n",
    "методы для нормализации\n",
    "модели обучения\n",
    "сравнение результатов\n",
    "почему такой результат"
   ]
  },
  {
   "cell_type": "code",
   "execution_count": null,
   "metadata": {},
   "outputs": [],
   "source": [
    "sdata.columns"
   ]
  },
  {
   "cell_type": "markdown",
   "metadata": {},
   "source": [
    "Changing columns names"
   ]
  },
  {
   "cell_type": "code",
   "execution_count": 2,
   "metadata": {},
   "outputs": [],
   "source": [
    "sdata.rename(columns={' Mean of the integrated profile':'mean_ip',\n",
    "                      ' Standard deviation of the integrated profile':'std_ip',\n",
    "                      ' Excess kurtosis of the integrated profile':'excess_ip', \n",
    "                      ' Skewness of the integrated profile':'skew_ip',\n",
    "                      ' Mean of the DM-SNR curve':'mean_dm-snr',\n",
    "                      ' Standard deviation of the DM-SNR curve':'std_dm-snr',\n",
    "                      ' Excess kurtosis of the DM-SNR curve':'excess_dm-snr',\n",
    "                      ' Skewness of the DM-SNR curve':'skew_dm-snr'},\n",
    "                 inplace=True)"
   ]
  },
  {
   "cell_type": "code",
   "execution_count": null,
   "metadata": {},
   "outputs": [],
   "source": [
    "sdata.info()"
   ]
  },
  {
   "cell_type": "markdown",
   "metadata": {},
   "source": [
    "According to info we have data in all features for all stars"
   ]
  },
  {
   "cell_type": "code",
   "execution_count": null,
   "metadata": {},
   "outputs": [],
   "source": [
    "sdata.describe()"
   ]
  },
  {
   "cell_type": "code",
   "execution_count": null,
   "metadata": {},
   "outputs": [],
   "source": [
    "sdata['target_class'].mean()"
   ]
  },
  {
   "cell_type": "markdown",
   "metadata": {},
   "source": [
    "In data set there are 9,1% pulsar stars"
   ]
  },
  {
   "cell_type": "code",
   "execution_count": null,
   "metadata": {},
   "outputs": [],
   "source": [
    "sns.pairplot(sdata, hue=\"target_class\")"
   ]
  },
  {
   "cell_type": "markdown",
   "metadata": {},
   "source": [
    "на основании этого графика можно сделать вывод что линейную регрессию использовать не получится, т.к. данные имеют большое пересечение"
   ]
  },
  {
   "cell_type": "markdown",
   "metadata": {},
   "source": [
    "На графике прослеживается шум, одна или несколько (т.к. видны на нескольких графиках) из звезд явно выбивается общей группы"
   ]
  },
  {
   "cell_type": "code",
   "execution_count": null,
   "metadata": {},
   "outputs": [],
   "source": [
    "stars=sdata.loc[sdata['target_class'] == 1]\n",
    "sorted = stars.sort_values(by=['skew_dm-snr'], ascending=False)\n",
    "top10 = sorted['skew_dm-snr'][:10]\n",
    "top10"
   ]
  },
  {
   "cell_type": "code",
   "execution_count": null,
   "metadata": {},
   "outputs": [],
   "source": [
    "sorted = stars.sort_values(by=['excess_dm-snr'], ascending=False)\n",
    "top10 = sorted['excess_dm-snr'][:10]\n",
    "top10"
   ]
  },
  {
   "cell_type": "markdown",
   "metadata": {},
   "source": [
    "Одна из звезд явно выбивается из общей группы. Извлечем её из общего списка чтобы потом добавить в тест выборку"
   ]
  },
  {
   "cell_type": "code",
   "execution_count": null,
   "metadata": {},
   "outputs": [],
   "source": [
    "extraStar = sdata.loc[11822]"
   ]
  },
  {
   "cell_type": "code",
   "execution_count": 3,
   "metadata": {},
   "outputs": [],
   "source": [
    "sdata.drop(11822,axis=0,inplace=True)"
   ]
  },
  {
   "cell_type": "code",
   "execution_count": null,
   "metadata": {},
   "outputs": [],
   "source": [
    "correlation = sdata.corr()\n",
    "fig, ax = plt.subplots(figsize=(10,10))\n",
    "sns.heatmap(correlation,annot=True,\n",
    "            cmap=sns.color_palette(\"magma\"),\n",
    "            linewidth=2,edgecolor=\"k\",ax=ax)"
   ]
  },
  {
   "cell_type": "markdown",
   "metadata": {},
   "source": [
    "Following heatmap shows correlation between features.\n",
    "\n",
    "There is a high positive correlation between following features:\n",
    "    Excess kurtosis of the integrated profile - Skewness of the integrated profile (0.95)\n",
    "    Mean of the DM-SNR curve - Standard deviation of the DM-SNR curve(0.80)\n",
    "    Excess kurtosis of the DM-SNR curve - Skewness of the DM-SNR curve (0.92)\n",
    "There is a high negative correlation between following features:\n",
    "    Mean of the integrated profile - Excess kurtosis of the integrated profile (-0.87)\n",
    "    Mean of the integrated profile - Skewness of the integrated profile (-0.74)\n",
    "    Standard deviation of the DM-SNR curve - Excess kurtosis of the DM-SNR curve (-0.81)\n",
    "\n",
    "There is a low correlation between following features:\n",
    "    Standard deviation of the integrated profile - all columns with DM-SNR curve\n",
    "    Skewness of the DM-SNR curve - Standard deviation of the integrated profile, Excess kurtosis of the integrated profile and Skewness of the integrated profile "
   ]
  },
  {
   "cell_type": "code",
   "execution_count": null,
   "metadata": {},
   "outputs": [],
   "source": [
    "Попробуем добавить новые параметры и посмотреть как они будут коррелировать с типом звезды"
   ]
  },
  {
   "cell_type": "code",
   "execution_count": null,
   "metadata": {},
   "outputs": [],
   "source": [
    "sdata1=sdata.copy()\n",
    "sdata1['x11']=sdata['mean_ip']/sdata['std_ip'] -\n",
    "sdata1['x12']=sdata['mean_ip']/sdata['excess_ip']\n",
    "sdata1['x13']=sdata['mean_ip']/sdata['skew_ip']\n",
    "sdata1['x14']=sdata['mean_ip']/sdata['mean_dm-snr']\n",
    "sdata1['x15']=sdata['mean_ip']/sdata['std_dm-snr']\n",
    "sdata1['x16']=sdata['mean_ip']/sdata['excess_dm-snr']\n",
    "sdata1['x17']=sdata['mean_ip']/sdata['skew_dm-snr']\n",
    "\n",
    "sdata1['x21']=sdata['std_ip']/sdata['mean_ip'] -\n",
    "sdata1['x22']=sdata['std_ip']/sdata['excess_ip']\n",
    "sdata1['x23']=sdata['std_ip']/sdata['skew_ip']\n",
    "sdata1['x24']=sdata['std_ip']/sdata['mean_dm-snr']\n",
    "sdata1['x25']=sdata['std_ip']/sdata['std_dm-snr']\n",
    "sdata1['x26']=sdata['std_ip']/sdata['excess_dm-snr']\n",
    "sdata1['x27']=sdata['std_ip']/sdata['skew_dm-snr']\n",
    "\n",
    "sdata1['x31']=sdata['excess_ip']/sdata['std_ip'] -\n",
    "sdata1['x32']=sdata['excess_ip']/sdata['mean_ip']\n",
    "sdata1['x33']=sdata['excess_ip']/sdata['skew_ip']\n",
    "sdata1['x34']=sdata['excess_ip']/sdata['mean_dm-snr']\n",
    "sdata1['x35']=sdata['excess_ip']/sdata['std_dm-snr']\n",
    "sdata1['x36']=sdata['excess_ip']/sdata['excess_dm-snr']\n",
    "sdata1['x37']=sdata['excess_ip']/sdata['skew_dm-snr']\n",
    "\n",
    "sdata1['x41']=sdata['skew_ip']/sdata['std_ip'] -\n",
    "sdata1['x42']=sdata['skew_ip']/sdata['excess_ip']\n",
    "sdata1['x43']=sdata['skew_ip']/sdata['mean_ip']\n",
    "sdata1['x44']=sdata['skew_ip']/sdata['mean_dm-snr']\n",
    "sdata1['x45']=sdata['skew_ip']/sdata['std_dm-snr'] -\n",
    "sdata1['x46']=sdata['skew_ip']/sdata['excess_dm-snr']\n",
    "sdata1['x47']=sdata['skew_ip']/sdata['skew_dm-snr']\n",
    "\n",
    "sdata1['x51']=sdata['mean_dm-snr']/sdata['std_ip']\n",
    "sdata1['x52']=sdata['mean_dm-snr']/sdata['excess_ip']\n",
    "sdata1['x53']=sdata['mean_dm-snr']/sdata['skew_ip']\n",
    "sdata1['x54']=sdata['mean_dm-snr']/sdata['mean_ip']\n",
    "sdata1['x55']=sdata['mean_dm-snr']/sdata['std_dm-snr']\n",
    "sdata1['x56']=sdata['mean_dm-snr']/sdata['excess_dm-snr']\n",
    "sdata1['x57']=sdata['mean_dm-snr']/sdata['skew_dm-snr']\n",
    "\n",
    "sdata1['x61']=sdata['std_dm-snr']/sdata['std_ip'] -\n",
    "sdata1['x62']=sdata['std_dm-snr']/sdata['excess_ip']\n",
    "sdata1['x63']=sdata['std_dm-snr']/sdata['skew_ip']\n",
    "sdata1['x64']=sdata['std_dm-snr']/sdata['mean_dm-snr']\n",
    "sdata1['x65']=sdata['std_dm-snr']/sdata['mean_ip'] -\n",
    "sdata1['x66']=sdata['std_dm-snr']/sdata['excess_dm-snr']\n",
    "sdata1['x67']=sdata['std_dm-snr']/sdata['skew_dm-snr']\n",
    "\n",
    "sdata1['x71']=sdata['excess_dm-snr']/sdata['std_ip']\n",
    "sdata1['x72']=sdata['excess_dm-snr']/sdata['excess_ip']\n",
    "sdata1['x73']=sdata['excess_dm-snr']/sdata['skew_ip']\n",
    "sdata1['x74']=sdata['excess_dm-snr']/sdata['mean_dm-snr']\n",
    "sdata1['x75']=sdata['excess_dm-snr']/sdata['std_dm-snr']\n",
    "sdata1['x76']=sdata['excess_dm-snr']/sdata['mean_ip']\n",
    "sdata1['x77']=sdata['excess_dm-snr']/sdata['skew_dm-snr']"
   ]
  },
  {
   "cell_type": "code",
   "execution_count": null,
   "metadata": {},
   "outputs": [],
   "source": [
    "corr_matrix = sdata1.corr()['target_class'].sort_values(ascending=False)"
   ]
  },
  {
   "cell_type": "code",
   "execution_count": null,
   "metadata": {},
   "outputs": [],
   "source": [
    "Добавим в датасет те, которые имеют наибольший коэф. корреляции"
   ]
  },
  {
   "cell_type": "code",
   "execution_count": 4,
   "metadata": {},
   "outputs": [],
   "source": [
    "sdata2=sdata.copy()\n",
    "sdata2['x11']=sdata['mean_ip']/sdata['std_ip']\n",
    "sdata2['x21']=sdata['std_ip']/sdata['mean_ip']\n",
    "sdata2['x31']=sdata['excess_ip']/sdata['std_ip']\n",
    "sdata2['x32']=sdata['excess_ip']/sdata['mean_ip']\n",
    "sdata2['x41']=sdata['skew_ip']/sdata['std_ip']\n",
    "sdata2['x45']=sdata['skew_ip']/sdata['std_dm-snr']\n",
    "sdata2['x61']=sdata['std_dm-snr']/sdata['std_ip']\n",
    "sdata2['x65']=sdata['std_dm-snr']/sdata['mean_ip']\n"
   ]
  },
  {
   "cell_type": "code",
   "execution_count": null,
   "metadata": {},
   "outputs": [],
   "source": [
    "sdata.head()"
   ]
  },
  {
   "cell_type": "code",
   "execution_count": null,
   "metadata": {},
   "outputs": [],
   "source": [
    "correlation2 = sdata2.corr()\n",
    "fig, ax = plt.subplots(figsize=(10,10))\n",
    "sns.heatmap(correlation2,annot=True,\n",
    "            cmap=sns.color_palette(\"magma\"),\n",
    "            linewidth=2,edgecolor=\"k\",ax=ax)"
   ]
  },
  {
   "cell_type": "code",
   "execution_count": null,
   "metadata": {},
   "outputs": [],
   "source": [
    "Уберем из датасета параметры с низкой корреляций и параметры которые тесно связаны с другими параметрами"
   ]
  },
  {
   "cell_type": "code",
   "execution_count": 5,
   "metadata": {},
   "outputs": [],
   "source": [
    "\n",
    "sdata2.drop([\"std_ip\"],axis=1,inplace=True)\n",
    "sdata2.drop([\"skew_dm-snr\"],axis=1,inplace=True)\n",
    "sdata2.drop([\"x21\"],axis=1,inplace=True)\n",
    "sdata2.drop([\"x11\"],axis=1,inplace=True)\n",
    "sdata2.drop([\"x61\"],axis=1,inplace=True)"
   ]
  },
  {
   "cell_type": "code",
   "execution_count": null,
   "metadata": {},
   "outputs": [],
   "source": [
    "Графики распределения параметров в датасете (в общем по датасету и разделенные по категориям)"
   ]
  },
  {
   "cell_type": "code",
   "execution_count": null,
   "metadata": {},
   "outputs": [],
   "source": [
    "f, axes = plt.subplots(2,4, figsize=(20, 12))\n",
    "sns.distplot( sdata[\"mean_ip\"], ax=axes[0,0])\n",
    "sns.distplot( sdata[\"std_ip\"], ax=axes[0,1])\n",
    "sns.distplot( sdata[\"excess_ip\"], ax=axes[0,2])\n",
    "sns.distplot( sdata[\"skew_ip\"], ax=axes[0,3])\n",
    "sns.distplot( sdata[\"mean_dm-snr\"], ax=axes[1,0])\n",
    "sns.distplot( sdata[\"std_dm-snr\"], ax=axes[1,1])\n",
    "sns.distplot( sdata[\"excess_dm-snr\"], ax=axes[1,2])\n",
    "sns.distplot( sdata[\"skew_dm-snr\"], ax=axes[1,3])"
   ]
  },
  {
   "cell_type": "code",
   "execution_count": null,
   "metadata": {},
   "outputs": [],
   "source": [
    "filterStar = sdata[\"target_class\"]==1\n",
    "filterNotStar = sdata[\"target_class\"]==0\n",
    "stardata=sdata.loc[sdata['target_class'] == 1]\n",
    "notStardata=sdata.loc[sdata['target_class'] == 0]\n",
    "f, axes = plt.subplots(4,4, figsize=(20, 12))\n",
    "sns.distplot( stardata[\"mean_ip\"], ax=axes[0,0], color=\"tab:red\")\n",
    "sns.distplot( stardata[\"std_ip\"], ax=axes[0,1], color=\"tab:red\")\n",
    "sns.distplot( stardata[\"excess_ip\"], ax=axes[0,2], color=\"tab:red\")\n",
    "sns.distplot( stardata[\"skew_ip\"], ax=axes[0,3], color=\"tab:red\")\n",
    "sns.distplot( stardata[\"mean_dm-snr\"], ax=axes[1,0], color=\"tab:red\")\n",
    "sns.distplot( stardata[\"std_dm-snr\"], ax=axes[1,1], color=\"tab:red\")\n",
    "sns.distplot( stardata[\"excess_dm-snr\"], ax=axes[1,2], color=\"tab:red\")\n",
    "sns.distplot( stardata[\"skew_dm-snr\"], ax=axes[1,3], color=\"tab:red\")\n",
    "\n",
    "sns.distplot( notStardata[\"mean_ip\"], ax=axes[2,0])\n",
    "sns.distplot( notStardata[\"std_ip\"], ax=axes[2,1])\n",
    "sns.distplot( notStardata[\"excess_ip\"], ax=axes[2,2])\n",
    "sns.distplot( notStardata[\"skew_ip\"], ax=axes[2,3])\n",
    "sns.distplot( notStardata[\"mean_dm-snr\"], ax=axes[3,0])\n",
    "sns.distplot( notStardata[\"std_dm-snr\"], ax=axes[3,1])\n",
    "sns.distplot( notStardata[\"excess_dm-snr\"], ax=axes[3,2])\n",
    "sns.distplot( notStardata[\"skew_dm-snr\"], ax=axes[3,3])"
   ]
  },
  {
   "cell_type": "code",
   "execution_count": null,
   "metadata": {},
   "outputs": [],
   "source": []
  },
  {
   "cell_type": "markdown",
   "metadata": {},
   "source": [
    "Prediction witouth any data adjustment"
   ]
  },
  {
   "cell_type": "code",
   "execution_count": 6,
   "metadata": {},
   "outputs": [],
   "source": [
    "y = sdata[\"target_class\"].values\n",
    "sdata.drop([\"target_class\"],axis=1,inplace=True)\n",
    "features = sdata.values\n",
    "X_train, X_test, y_train, y_test = train_test_split(features, y, test_size = 0.3, random_state=123, stratify=y)"
   ]
  },
  {
   "cell_type": "code",
   "execution_count": 7,
   "metadata": {},
   "outputs": [
    {
     "name": "stdout",
     "output_type": "stream",
     "text": [
      "\n",
      " accuracy_score : 0.9813780260707635\n"
     ]
    },
    {
     "data": {
      "text/plain": [
       "Text(0.5, 1, 'CONFUSION MATRIX')"
      ]
     },
     "execution_count": 7,
     "metadata": {},
     "output_type": "execute_result"
    },
    {
     "data": {
      "image/png": "[encoded data removed]",
      "text/plain": [
       "<Figure size 936x720 with 2 Axes>"
      ]
     },
     "metadata": {
      "needs_background": "light"
     },
     "output_type": "display_data"
    }
   ],
   "source": [
    "rfc_model = RandomForestClassifier(n_estimators=100,random_state=42,max_leaf_nodes=200,criterion=\"gini\")\n",
    "rfc_model.fit(X_train,y_train)\n",
    "predict_rfc = rfc_model.predict(X_test)\n",
    "rfc_score = rfc_model.score(X_test,y_test)\n",
    "print (\"\\n accuracy_score :\",rfc_score)\n",
    "\n",
    "plt.figure(figsize=(13,10))\n",
    "plt.subplot(221)\n",
    "sns.heatmap(confusion_matrix(y_test, predict_rfc),annot=True,fmt = \"d\",linecolor=\"w\", cmap=sns.color_palette(\"magma\"),linewidths=3)\n",
    "plt.title(\"CONFUSION MATRIX\",fontsize=20)"
   ]
  },
  {
   "cell_type": "code",
   "execution_count": null,
   "metadata": {},
   "outputs": [],
   "source": []
  },
  {
   "cell_type": "markdown",
   "metadata": {},
   "source": [
    "GradientBoosting"
   ]
  },
  {
   "cell_type": "code",
   "execution_count": 8,
   "metadata": {},
   "outputs": [
    {
     "name": "stdout",
     "output_type": "stream",
     "text": [
      "\n",
      " accuracy_score : 0.978584729981378\n"
     ]
    },
    {
     "data": {
      "text/plain": [
       "Text(0.5, 1, 'CONFUSION MATRIX')"
      ]
     },
     "execution_count": 8,
     "metadata": {},
     "output_type": "execute_result"
    },
    {
     "data": {
      "image/png": "[encoded data removed]",
      "text/plain": [
       "<Figure size 936x720 with 2 Axes>"
      ]
     },
     "metadata": {
      "needs_background": "light"
     },
     "output_type": "display_data"
    }
   ],
   "source": [
    "from sklearn.ensemble import GradientBoostingClassifier\n",
    "gbc = GradientBoostingClassifier()\n",
    "gbc.fit(X_train,y_train)\n",
    "gbc_prediction = gbc.predict(X_test)\n",
    "gbc_score = gbc.score(X_test,y_test)\n",
    "print (\"\\n accuracy_score :\",gbc_score)\n",
    "\n",
    "plt.figure(figsize=(13,10))\n",
    "plt.subplot(221)\n",
    "sns.heatmap(confusion_matrix(y_test, gbc_prediction),annot=True,fmt = \"d\",linecolor=\"w\", cmap=sns.color_palette(\"magma\"),linewidths=3)\n",
    "plt.title(\"CONFUSION MATRIX\",fontsize=20)\n"
   ]
  },
  {
   "cell_type": "code",
   "execution_count": null,
   "metadata": {},
   "outputs": [],
   "source": [
    "Gradient boosting для не обработанных данных дал результат чуть хуже, кол-во определенных звезд уменьшилось и \n",
    "возросло число false-negative и false-positive"
   ]
  },
  {
   "cell_type": "markdown",
   "metadata": {},
   "source": [
    "Create additional train set with data after manipulation"
   ]
  },
  {
   "cell_type": "code",
   "execution_count": 9,
   "metadata": {},
   "outputs": [],
   "source": [
    "y = sdata2[\"target_class\"].values\n",
    "sdata2.drop([\"target_class\"],axis=1,inplace=True)\n",
    "\n",
    "\n",
    "features_reduced = sdata2.values\n",
    "Xr_train, Xr_test, yr_train, yr_test = train_test_split(features_reduced, y, test_size = 0.3, random_state=123, stratify=y)"
   ]
  },
  {
   "cell_type": "code",
   "execution_count": 10,
   "metadata": {},
   "outputs": [
    {
     "name": "stdout",
     "output_type": "stream",
     "text": [
      "\n",
      " accuracy_score : 0.9813780260707635\n"
     ]
    },
    {
     "data": {
      "text/plain": [
       "Text(0.5, 1, 'CONFUSION MATRIX')"
      ]
     },
     "execution_count": 10,
     "metadata": {},
     "output_type": "execute_result"
    },
    {
     "data": {
      "image/png": "[encoded data removed]",
      "text/plain": [
       "<Figure size 936x720 with 2 Axes>"
      ]
     },
     "metadata": {
      "needs_background": "light"
     },
     "output_type": "display_data"
    }
   ],
   "source": [
    "rfc_model = RandomForestClassifier(n_estimators=100,random_state=42,max_leaf_nodes=200,criterion=\"gini\")\n",
    "rfc_model.fit(Xr_train,yr_train)\n",
    "predict_rfc_red = rfc_model.predict(Xr_test)\n",
    "rfc_score_red = rfc_model.score(Xr_test,yr_test)\n",
    "print (\"\\n accuracy_score :\",rfc_score_red)\n",
    "\n",
    "plt.figure(figsize=(13,10))\n",
    "plt.subplot(221)\n",
    "sns.heatmap(confusion_matrix(yr_test, predict_rfc_red),annot=True,fmt = \"d\",linecolor=\"w\", cmap=sns.color_palette(\"magma\"),linewidths=3)\n",
    "plt.title(\"CONFUSION MATRIX\",fontsize=20)"
   ]
  },
  {
   "cell_type": "markdown",
   "metadata": {},
   "source": [
    "После добавления новых фич результат стал незначительно лучше"
   ]
  },
  {
   "cell_type": "code",
   "execution_count": 11,
   "metadata": {},
   "outputs": [
    {
     "name": "stdout",
     "output_type": "stream",
     "text": [
      "\n",
      " accuracy_score : 0.9793296089385475\n"
     ]
    },
    {
     "data": {
      "text/plain": [
       "Text(0.5, 1, 'CONFUSION MATRIX')"
      ]
     },
     "execution_count": 11,
     "metadata": {},
     "output_type": "execute_result"
    },
    {
     "data": {
      "image/png": "[encoded data removed]",
      "text/plain": [
       "<Figure size 936x720 with 2 Axes>"
      ]
     },
     "metadata": {
      "needs_background": "light"
     },
     "output_type": "display_data"
    }
   ],
   "source": [
    "gbc = GradientBoostingClassifier()\n",
    "gbc.fit(Xr_train,yr_train)\n",
    "gbc_prediction_red = gbc.predict(Xr_test)\n",
    "gbc_score = gbc.score(Xr_test,yr_test)\n",
    "print (\"\\n accuracy_score :\",gbc_score)\n",
    "\n",
    "plt.figure(figsize=(13,10))\n",
    "plt.subplot(221)\n",
    "sns.heatmap(confusion_matrix(yr_test, gbc_prediction_red),annot=True,fmt = \"d\",linecolor=\"w\", cmap=sns.color_palette(\"magma\"),linewidths=3)\n",
    "plt.title(\"CONFUSION MATRIX\",fontsize=20)"
   ]
  },
  {
   "cell_type": "markdown",
   "metadata": {},
   "source": [
    "Изменение кол-ва фич положительно сказалось на градиентБустинге в сторону уменьшения числа false-positive"
   ]
  },
  {
   "cell_type": "markdown",
   "metadata": {},
   "source": [
    "Prediction with data normalization. Try to normalize data with MinMax Scaler (Standard scaler hasn't give any result)"
   ]
  },
  {
   "cell_type": "code",
   "execution_count": 12,
   "metadata": {},
   "outputs": [
    {
     "name": "stdout",
     "output_type": "stream",
     "text": [
      "\n",
      " accuracy_score : 0.9808193668528864\n"
     ]
    },
    {
     "data": {
      "text/plain": [
       "Text(0.5, 1, 'CONFUSION MATRIX')"
      ]
     },
     "execution_count": 12,
     "metadata": {},
     "output_type": "execute_result"
    },
    {
     "data": {
      "image/png": "[encoded data removed]",
      "text/plain": [
       "<Figure size 936x720 with 2 Axes>"
      ]
     },
     "metadata": {
      "needs_background": "light"
     },
     "output_type": "display_data"
    }
   ],
   "source": [
    "from sklearn.preprocessing import MinMaxScaler\n",
    "\n",
    "scaler = MinMaxScaler(feature_range=(0,1))\n",
    "Xs_train = scaler.fit_transform(Xr_train)\n",
    "Xs_test = scaler.fit_transform(Xr_test)\n",
    "\n",
    "\n",
    "rfc_model = RandomForestClassifier(n_estimators=500,random_state=42,max_leaf_nodes=500,criterion=\"gini\")\n",
    "rfc_model.fit(Xs_train,yr_train)\n",
    "predict_rfc = rfc_model.predict(Xs_test)\n",
    "rfc_score = rfc_model.score(Xs_test,yr_test)\n",
    "print (\"\\n accuracy_score :\",rfc_score)\n",
    "\n",
    "plt.figure(figsize=(13,10))\n",
    "plt.subplot(221)\n",
    "sns.heatmap(confusion_matrix(yr_test, predict_rfc),annot=True,fmt = \"d\",linecolor=\"w\", cmap=sns.color_palette(\"magma\"),linewidths=3)\n",
    "plt.title(\"CONFUSION MATRIX\",fontsize=20)"
   ]
  },
  {
   "cell_type": "code",
   "execution_count": 13,
   "metadata": {},
   "outputs": [
    {
     "name": "stdout",
     "output_type": "stream",
     "text": [
      "\n",
      " accuracy_score : 0.9649906890130354\n"
     ]
    },
    {
     "data": {
      "text/plain": [
       "Text(0.5, 1, 'CONFUSION MATRIX')"
      ]
     },
     "execution_count": 13,
     "metadata": {},
     "output_type": "execute_result"
    },
    {
     "data": {
      "image/png": "[encoded data removed]",
      "text/plain": [
       "<Figure size 936x720 with 2 Axes>"
      ]
     },
     "metadata": {
      "needs_background": "light"
     },
     "output_type": "display_data"
    }
   ],
   "source": [
    "gbc = GradientBoostingClassifier()\n",
    "gbc.fit(Xs_train,y_train)\n",
    "gbc_prediction = gbc.predict(Xs_test)\n",
    "gbc_score = gbc.score(Xs_test,yr_test)\n",
    "print (\"\\n accuracy_score :\",gbc_score)\n",
    "\n",
    "plt.figure(figsize=(13,10))\n",
    "plt.subplot(221)\n",
    "sns.heatmap(confusion_matrix(yr_test, gbc_prediction),annot=True,fmt = \"d\",linecolor=\"w\", cmap=sns.color_palette(\"magma\"),linewidths=3)\n",
    "plt.title(\"CONFUSION MATRIX\",fontsize=20)\n",
    "\n"
   ]
  },
  {
   "cell_type": "code",
   "execution_count": 14,
   "metadata": {},
   "outputs": [
    {
     "name": "stdout",
     "output_type": "stream",
     "text": [
      "\n",
      " accuracy_score : 0.9783985102420857\n"
     ]
    },
    {
     "data": {
      "text/plain": [
       "Text(0.5, 1, 'CONFUSION MATRIX')"
      ]
     },
     "execution_count": 14,
     "metadata": {},
     "output_type": "execute_result"
    },
    {
     "data": {
      "image/png": "[encoded data removed]",
      "text/plain": [
       "<Figure size 936x720 with 2 Axes>"
      ]
     },
     "metadata": {
      "needs_background": "light"
     },
     "output_type": "display_data"
    }
   ],
   "source": [
    "from sklearn.ensemble import AdaBoostClassifier\n",
    "ada_normS_model = AdaBoostClassifier()\n",
    "ada_normS_model.fit(Xs_train,y_train)\n",
    "yada_normS_head_rfc = ada_normS_model.predict(Xs_test)\n",
    "ada_norms_score = ada_normS_model.score(Xs_test,yr_test)\n",
    "\n",
    "print (\"\\n accuracy_score :\",ada_norms_score)\n",
    "\n",
    "plt.figure(figsize=(13,10))\n",
    "plt.subplot(221)\n",
    "sns.heatmap(confusion_matrix(yr_test, yada_normS_head_rfc),annot=True,fmt = \"d\",linecolor=\"w\", cmap=sns.color_palette(\"magma\"),linewidths=3)\n",
    "plt.title(\"CONFUSION MATRIX\",fontsize=20)"
   ]
  },
  {
   "cell_type": "code",
   "execution_count": null,
   "metadata": {},
   "outputs": [],
   "source": [
    "Min-max scaling значительно ухудшил результат для всех типов обучения, количество успешно определенных звезд значительно снизилось"
   ]
  }
 ],
 "metadata": {
  "kernelspec": {
   "display_name": "AIU_ML_KERNEL",
   "language": "python",
   "name": "aiu_ml_kernel"
  },
  "language_info": {
   "codemirror_mode": {
    "name": "ipython",
    "version": 3
   },
   "file_extension": ".py",
   "mimetype": "text/x-python",
   "name": "python",
   "nbconvert_exporter": "python",
   "pygments_lexer": "ipython3",
   "version": "3.7.3"
  }
 },
 "nbformat": 4,
 "nbformat_minor": 2
}
